{
 "cells": [
  {
   "cell_type": "code",
   "execution_count": 3,
   "id": "b09521a1",
   "metadata": {},
   "outputs": [],
   "source": [
    "import pandas as pd"
   ]
  },
  {
   "cell_type": "code",
   "execution_count": 4,
   "id": "8f9cc0e6",
   "metadata": {},
   "outputs": [],
   "source": [
    "df = pd.read_csv(\"C:/Users/onata/Downloads/Classification+preprocessed+data+Python (2).csv\")"
   ]
  },
  {
   "cell_type": "code",
   "execution_count": 5,
   "id": "539fa6db",
   "metadata": {},
   "outputs": [
    {
     "data": {
      "text/html": [
       "<div>\n",
       "<style scoped>\n",
       "    .dataframe tbody tr th:only-of-type {\n",
       "        vertical-align: middle;\n",
       "    }\n",
       "\n",
       "    .dataframe tbody tr th {\n",
       "        vertical-align: top;\n",
       "    }\n",
       "\n",
       "    .dataframe thead th {\n",
       "        text-align: right;\n",
       "    }\n",
       "</style>\n",
       "<table border=\"1\" class=\"dataframe\">\n",
       "  <thead>\n",
       "    <tr style=\"text-align: right;\">\n",
       "      <th></th>\n",
       "      <th>price</th>\n",
       "      <th>resid_area</th>\n",
       "      <th>air_qual</th>\n",
       "      <th>room_num</th>\n",
       "      <th>age</th>\n",
       "      <th>teachers</th>\n",
       "      <th>poor_prop</th>\n",
       "      <th>n_hos_beds</th>\n",
       "      <th>n_hot_rooms</th>\n",
       "      <th>rainfall</th>\n",
       "      <th>parks</th>\n",
       "      <th>Sold</th>\n",
       "      <th>avg_dist</th>\n",
       "      <th>airport_YES</th>\n",
       "      <th>waterbody_Lake</th>\n",
       "      <th>waterbody_Lake and River</th>\n",
       "      <th>waterbody_River</th>\n",
       "    </tr>\n",
       "  </thead>\n",
       "  <tbody>\n",
       "    <tr>\n",
       "      <th>0</th>\n",
       "      <td>24.0</td>\n",
       "      <td>32.31</td>\n",
       "      <td>0.538</td>\n",
       "      <td>6.575</td>\n",
       "      <td>65.2</td>\n",
       "      <td>24.7</td>\n",
       "      <td>4.98</td>\n",
       "      <td>5.480</td>\n",
       "      <td>11.19200</td>\n",
       "      <td>23</td>\n",
       "      <td>0.049347</td>\n",
       "      <td>0</td>\n",
       "      <td>4.0875</td>\n",
       "      <td>1</td>\n",
       "      <td>0</td>\n",
       "      <td>0</td>\n",
       "      <td>1</td>\n",
       "    </tr>\n",
       "    <tr>\n",
       "      <th>1</th>\n",
       "      <td>21.6</td>\n",
       "      <td>37.07</td>\n",
       "      <td>0.469</td>\n",
       "      <td>6.421</td>\n",
       "      <td>78.9</td>\n",
       "      <td>22.2</td>\n",
       "      <td>9.14</td>\n",
       "      <td>7.332</td>\n",
       "      <td>12.17280</td>\n",
       "      <td>42</td>\n",
       "      <td>0.046146</td>\n",
       "      <td>1</td>\n",
       "      <td>4.9675</td>\n",
       "      <td>0</td>\n",
       "      <td>1</td>\n",
       "      <td>0</td>\n",
       "      <td>0</td>\n",
       "    </tr>\n",
       "    <tr>\n",
       "      <th>2</th>\n",
       "      <td>34.7</td>\n",
       "      <td>37.07</td>\n",
       "      <td>0.469</td>\n",
       "      <td>7.185</td>\n",
       "      <td>61.1</td>\n",
       "      <td>22.2</td>\n",
       "      <td>4.03</td>\n",
       "      <td>7.394</td>\n",
       "      <td>46.19856</td>\n",
       "      <td>38</td>\n",
       "      <td>0.045764</td>\n",
       "      <td>0</td>\n",
       "      <td>4.9675</td>\n",
       "      <td>0</td>\n",
       "      <td>0</td>\n",
       "      <td>0</td>\n",
       "      <td>0</td>\n",
       "    </tr>\n",
       "    <tr>\n",
       "      <th>3</th>\n",
       "      <td>33.4</td>\n",
       "      <td>32.18</td>\n",
       "      <td>0.458</td>\n",
       "      <td>6.998</td>\n",
       "      <td>45.8</td>\n",
       "      <td>21.3</td>\n",
       "      <td>2.94</td>\n",
       "      <td>9.268</td>\n",
       "      <td>11.26720</td>\n",
       "      <td>45</td>\n",
       "      <td>0.047151</td>\n",
       "      <td>0</td>\n",
       "      <td>6.0650</td>\n",
       "      <td>1</td>\n",
       "      <td>1</td>\n",
       "      <td>0</td>\n",
       "      <td>0</td>\n",
       "    </tr>\n",
       "    <tr>\n",
       "      <th>4</th>\n",
       "      <td>36.2</td>\n",
       "      <td>32.18</td>\n",
       "      <td>0.458</td>\n",
       "      <td>7.147</td>\n",
       "      <td>54.2</td>\n",
       "      <td>21.3</td>\n",
       "      <td>5.33</td>\n",
       "      <td>8.824</td>\n",
       "      <td>11.28960</td>\n",
       "      <td>55</td>\n",
       "      <td>0.039474</td>\n",
       "      <td>0</td>\n",
       "      <td>6.0625</td>\n",
       "      <td>0</td>\n",
       "      <td>1</td>\n",
       "      <td>0</td>\n",
       "      <td>0</td>\n",
       "    </tr>\n",
       "  </tbody>\n",
       "</table>\n",
       "</div>"
      ],
      "text/plain": [
       "   price  resid_area  air_qual  room_num   age  teachers  poor_prop  \\\n",
       "0   24.0       32.31     0.538     6.575  65.2      24.7       4.98   \n",
       "1   21.6       37.07     0.469     6.421  78.9      22.2       9.14   \n",
       "2   34.7       37.07     0.469     7.185  61.1      22.2       4.03   \n",
       "3   33.4       32.18     0.458     6.998  45.8      21.3       2.94   \n",
       "4   36.2       32.18     0.458     7.147  54.2      21.3       5.33   \n",
       "\n",
       "   n_hos_beds  n_hot_rooms  rainfall     parks  Sold  avg_dist  airport_YES  \\\n",
       "0       5.480     11.19200        23  0.049347     0    4.0875            1   \n",
       "1       7.332     12.17280        42  0.046146     1    4.9675            0   \n",
       "2       7.394     46.19856        38  0.045764     0    4.9675            0   \n",
       "3       9.268     11.26720        45  0.047151     0    6.0650            1   \n",
       "4       8.824     11.28960        55  0.039474     0    6.0625            0   \n",
       "\n",
       "   waterbody_Lake  waterbody_Lake and River  waterbody_River  \n",
       "0               0                         0                1  \n",
       "1               1                         0                0  \n",
       "2               0                         0                0  \n",
       "3               1                         0                0  \n",
       "4               1                         0                0  "
      ]
     },
     "execution_count": 5,
     "metadata": {},
     "output_type": "execute_result"
    }
   ],
   "source": [
    "df.head()"
   ]
  },
  {
   "cell_type": "markdown",
   "id": "787f2a14",
   "metadata": {},
   "source": [
    "# USING LOGISTIC REGRESSION"
   ]
  },
  {
   "cell_type": "code",
   "execution_count": 6,
   "id": "05b08893",
   "metadata": {},
   "outputs": [],
   "source": [
    "X = df[['price']]"
   ]
  },
  {
   "cell_type": "code",
   "execution_count": 7,
   "id": "b0083262",
   "metadata": {},
   "outputs": [],
   "source": [
    "Y = df[['Sold']]"
   ]
  },
  {
   "cell_type": "code",
   "execution_count": 8,
   "id": "7cc9b7c7",
   "metadata": {},
   "outputs": [
    {
     "data": {
      "text/html": [
       "<div>\n",
       "<style scoped>\n",
       "    .dataframe tbody tr th:only-of-type {\n",
       "        vertical-align: middle;\n",
       "    }\n",
       "\n",
       "    .dataframe tbody tr th {\n",
       "        vertical-align: top;\n",
       "    }\n",
       "\n",
       "    .dataframe thead th {\n",
       "        text-align: right;\n",
       "    }\n",
       "</style>\n",
       "<table border=\"1\" class=\"dataframe\">\n",
       "  <thead>\n",
       "    <tr style=\"text-align: right;\">\n",
       "      <th></th>\n",
       "      <th>price</th>\n",
       "    </tr>\n",
       "  </thead>\n",
       "  <tbody>\n",
       "    <tr>\n",
       "      <th>0</th>\n",
       "      <td>24.0</td>\n",
       "    </tr>\n",
       "    <tr>\n",
       "      <th>1</th>\n",
       "      <td>21.6</td>\n",
       "    </tr>\n",
       "    <tr>\n",
       "      <th>2</th>\n",
       "      <td>34.7</td>\n",
       "    </tr>\n",
       "    <tr>\n",
       "      <th>3</th>\n",
       "      <td>33.4</td>\n",
       "    </tr>\n",
       "    <tr>\n",
       "      <th>4</th>\n",
       "      <td>36.2</td>\n",
       "    </tr>\n",
       "  </tbody>\n",
       "</table>\n",
       "</div>"
      ],
      "text/plain": [
       "   price\n",
       "0   24.0\n",
       "1   21.6\n",
       "2   34.7\n",
       "3   33.4\n",
       "4   36.2"
      ]
     },
     "execution_count": 8,
     "metadata": {},
     "output_type": "execute_result"
    }
   ],
   "source": [
    "#to check the sample\n",
    "X.head()"
   ]
  },
  {
   "cell_type": "code",
   "execution_count": 12,
   "id": "743f560e",
   "metadata": {},
   "outputs": [],
   "source": [
    "#first create the classification object\n",
    "#then fit that object using the X and Y variable\n",
    "#predict the Y variable using the trained classification model"
   ]
  },
  {
   "cell_type": "code",
   "execution_count": 9,
   "id": "d3096ef4",
   "metadata": {},
   "outputs": [],
   "source": [
    "from sklearn.linear_model import LogisticRegression\n",
    "clf_lrs = LogisticRegression()"
   ]
  },
  {
   "cell_type": "code",
   "execution_count": 10,
   "id": "a6edc376",
   "metadata": {},
   "outputs": [
    {
     "name": "stderr",
     "output_type": "stream",
     "text": [
      "C:\\Users\\onata\\anaconda3\\lib\\site-packages\\sklearn\\utils\\validation.py:63: DataConversionWarning: A column-vector y was passed when a 1d array was expected. Please change the shape of y to (n_samples, ), for example using ravel().\n",
      "  return f(*args, **kwargs)\n"
     ]
    },
    {
     "data": {
      "text/plain": [
       "LogisticRegression()"
      ]
     },
     "execution_count": 10,
     "metadata": {},
     "output_type": "execute_result"
    }
   ],
   "source": [
    "clf_lrs.fit(X,Y)"
   ]
  },
  {
   "cell_type": "code",
   "execution_count": 11,
   "id": "ff752d79",
   "metadata": {},
   "outputs": [
    {
     "data": {
      "text/plain": [
       "array([[-0.03571865]])"
      ]
     },
     "execution_count": 11,
     "metadata": {},
     "output_type": "execute_result"
    }
   ],
   "source": [
    "clf_lrs.coef_"
   ]
  },
  {
   "cell_type": "code",
   "execution_count": 12,
   "id": "afb1fa6f",
   "metadata": {},
   "outputs": [
    {
     "data": {
      "text/plain": [
       "array([0.61477516])"
      ]
     },
     "execution_count": 12,
     "metadata": {},
     "output_type": "execute_result"
    }
   ],
   "source": [
    "clf_lrs.intercept_"
   ]
  },
  {
   "cell_type": "markdown",
   "id": "9bc57c25",
   "metadata": {},
   "source": [
    "# USING STATSMODEL"
   ]
  },
  {
   "cell_type": "code",
   "execution_count": 13,
   "id": "2dc527e0",
   "metadata": {},
   "outputs": [],
   "source": [
    "import statsmodels.api as sn"
   ]
  },
  {
   "cell_type": "code",
   "execution_count": 14,
   "id": "502eeeda",
   "metadata": {},
   "outputs": [
    {
     "name": "stderr",
     "output_type": "stream",
     "text": [
      "C:\\Users\\onata\\anaconda3\\lib\\site-packages\\statsmodels\\tsa\\tsatools.py:142: FutureWarning: In a future version of pandas all arguments of concat except for the argument 'objs' will be keyword-only\n",
      "  x = pd.concat(x[::order], 1)\n"
     ]
    }
   ],
   "source": [
    "X_cons = sn.add_constant(X)"
   ]
  },
  {
   "cell_type": "code",
   "execution_count": 15,
   "id": "fd5ee63e",
   "metadata": {},
   "outputs": [
    {
     "data": {
      "text/html": [
       "<div>\n",
       "<style scoped>\n",
       "    .dataframe tbody tr th:only-of-type {\n",
       "        vertical-align: middle;\n",
       "    }\n",
       "\n",
       "    .dataframe tbody tr th {\n",
       "        vertical-align: top;\n",
       "    }\n",
       "\n",
       "    .dataframe thead th {\n",
       "        text-align: right;\n",
       "    }\n",
       "</style>\n",
       "<table border=\"1\" class=\"dataframe\">\n",
       "  <thead>\n",
       "    <tr style=\"text-align: right;\">\n",
       "      <th></th>\n",
       "      <th>const</th>\n",
       "      <th>price</th>\n",
       "    </tr>\n",
       "  </thead>\n",
       "  <tbody>\n",
       "    <tr>\n",
       "      <th>0</th>\n",
       "      <td>1.0</td>\n",
       "      <td>24.0</td>\n",
       "    </tr>\n",
       "    <tr>\n",
       "      <th>1</th>\n",
       "      <td>1.0</td>\n",
       "      <td>21.6</td>\n",
       "    </tr>\n",
       "    <tr>\n",
       "      <th>2</th>\n",
       "      <td>1.0</td>\n",
       "      <td>34.7</td>\n",
       "    </tr>\n",
       "    <tr>\n",
       "      <th>3</th>\n",
       "      <td>1.0</td>\n",
       "      <td>33.4</td>\n",
       "    </tr>\n",
       "    <tr>\n",
       "      <th>4</th>\n",
       "      <td>1.0</td>\n",
       "      <td>36.2</td>\n",
       "    </tr>\n",
       "  </tbody>\n",
       "</table>\n",
       "</div>"
      ],
      "text/plain": [
       "   const  price\n",
       "0    1.0   24.0\n",
       "1    1.0   21.6\n",
       "2    1.0   34.7\n",
       "3    1.0   33.4\n",
       "4    1.0   36.2"
      ]
     },
     "execution_count": 15,
     "metadata": {},
     "output_type": "execute_result"
    }
   ],
   "source": [
    "X_cons.head()"
   ]
  },
  {
   "cell_type": "markdown",
   "id": "a83cd52c",
   "metadata": {},
   "source": [
    "import statsmodels.discrete.discrete_model as sm"
   ]
  },
  {
   "cell_type": "code",
   "execution_count": 17,
   "id": "4e0a61f1",
   "metadata": {},
   "outputs": [
    {
     "name": "stdout",
     "output_type": "stream",
     "text": [
      "Optimization terminated successfully.\n",
      "         Current function value: 0.676690\n",
      "         Iterations 5\n"
     ]
    }
   ],
   "source": [
    "logit = sm.Logit(Y,X_cons).fit()"
   ]
  },
  {
   "cell_type": "code",
   "execution_count": 18,
   "id": "f24fe77c",
   "metadata": {},
   "outputs": [
    {
     "data": {
      "text/html": [
       "<table class=\"simpletable\">\n",
       "<caption>Logit Regression Results</caption>\n",
       "<tr>\n",
       "  <th>Dep. Variable:</th>         <td>Sold</td>       <th>  No. Observations:  </th>  <td>   506</td>  \n",
       "</tr>\n",
       "<tr>\n",
       "  <th>Model:</th>                 <td>Logit</td>      <th>  Df Residuals:      </th>  <td>   504</td>  \n",
       "</tr>\n",
       "<tr>\n",
       "  <th>Method:</th>                 <td>MLE</td>       <th>  Df Model:          </th>  <td>     1</td>  \n",
       "</tr>\n",
       "<tr>\n",
       "  <th>Date:</th>            <td>Wed, 14 Sep 2022</td> <th>  Pseudo R-squ.:     </th>  <td>0.01788</td> \n",
       "</tr>\n",
       "<tr>\n",
       "  <th>Time:</th>                <td>21:17:40</td>     <th>  Log-Likelihood:    </th> <td> -342.41</td> \n",
       "</tr>\n",
       "<tr>\n",
       "  <th>converged:</th>             <td>True</td>       <th>  LL-Null:           </th> <td> -348.64</td> \n",
       "</tr>\n",
       "<tr>\n",
       "  <th>Covariance Type:</th>     <td>nonrobust</td>    <th>  LLR p-value:       </th> <td>0.0004142</td>\n",
       "</tr>\n",
       "</table>\n",
       "<table class=\"simpletable\">\n",
       "<tr>\n",
       "    <td></td>       <th>coef</th>     <th>std err</th>      <th>z</th>      <th>P>|z|</th>  <th>[0.025</th>    <th>0.975]</th>  \n",
       "</tr>\n",
       "<tr>\n",
       "  <th>const</th> <td>    0.6149</td> <td>    0.248</td> <td>    2.484</td> <td> 0.013</td> <td>    0.130</td> <td>    1.100</td>\n",
       "</tr>\n",
       "<tr>\n",
       "  <th>price</th> <td>   -0.0357</td> <td>    0.010</td> <td>   -3.417</td> <td> 0.001</td> <td>   -0.056</td> <td>   -0.015</td>\n",
       "</tr>\n",
       "</table>"
      ],
      "text/plain": [
       "<class 'statsmodels.iolib.summary.Summary'>\n",
       "\"\"\"\n",
       "                           Logit Regression Results                           \n",
       "==============================================================================\n",
       "Dep. Variable:                   Sold   No. Observations:                  506\n",
       "Model:                          Logit   Df Residuals:                      504\n",
       "Method:                           MLE   Df Model:                            1\n",
       "Date:                Wed, 14 Sep 2022   Pseudo R-squ.:                 0.01788\n",
       "Time:                        21:17:40   Log-Likelihood:                -342.41\n",
       "converged:                       True   LL-Null:                       -348.64\n",
       "Covariance Type:            nonrobust   LLR p-value:                 0.0004142\n",
       "==============================================================================\n",
       "                 coef    std err          z      P>|z|      [0.025      0.975]\n",
       "------------------------------------------------------------------------------\n",
       "const          0.6149      0.248      2.484      0.013       0.130       1.100\n",
       "price         -0.0357      0.010     -3.417      0.001      -0.056      -0.015\n",
       "==============================================================================\n",
       "\"\"\""
      ]
     },
     "execution_count": 18,
     "metadata": {},
     "output_type": "execute_result"
    }
   ],
   "source": [
    "logit.summary()"
   ]
  },
  {
   "cell_type": "markdown",
   "id": "6136db09",
   "metadata": {},
   "source": [
    "# USING MULTIPLE PREDICTOR TO PREDICT"
   ]
  },
  {
   "cell_type": "code",
   "execution_count": 19,
   "id": "35bfe9a9",
   "metadata": {},
   "outputs": [],
   "source": [
    "X = df.loc[:, df.columns != 'Sold']"
   ]
  },
  {
   "cell_type": "code",
   "execution_count": 24,
   "id": "7cdb2c2e",
   "metadata": {},
   "outputs": [
    {
     "data": {
      "text/html": [
       "<div>\n",
       "<style scoped>\n",
       "    .dataframe tbody tr th:only-of-type {\n",
       "        vertical-align: middle;\n",
       "    }\n",
       "\n",
       "    .dataframe tbody tr th {\n",
       "        vertical-align: top;\n",
       "    }\n",
       "\n",
       "    .dataframe thead th {\n",
       "        text-align: right;\n",
       "    }\n",
       "</style>\n",
       "<table border=\"1\" class=\"dataframe\">\n",
       "  <thead>\n",
       "    <tr style=\"text-align: right;\">\n",
       "      <th></th>\n",
       "      <th>price</th>\n",
       "      <th>resid_area</th>\n",
       "      <th>air_qual</th>\n",
       "      <th>room_num</th>\n",
       "      <th>age</th>\n",
       "      <th>teachers</th>\n",
       "      <th>poor_prop</th>\n",
       "      <th>n_hos_beds</th>\n",
       "      <th>n_hot_rooms</th>\n",
       "      <th>rainfall</th>\n",
       "      <th>parks</th>\n",
       "      <th>avg_dist</th>\n",
       "      <th>airport_YES</th>\n",
       "      <th>waterbody_Lake</th>\n",
       "      <th>waterbody_Lake and River</th>\n",
       "      <th>waterbody_River</th>\n",
       "    </tr>\n",
       "  </thead>\n",
       "  <tbody>\n",
       "    <tr>\n",
       "      <th>0</th>\n",
       "      <td>24.0</td>\n",
       "      <td>32.31</td>\n",
       "      <td>0.538</td>\n",
       "      <td>6.575</td>\n",
       "      <td>65.2</td>\n",
       "      <td>24.7</td>\n",
       "      <td>4.98</td>\n",
       "      <td>5.480</td>\n",
       "      <td>11.19200</td>\n",
       "      <td>23</td>\n",
       "      <td>0.049347</td>\n",
       "      <td>4.0875</td>\n",
       "      <td>1</td>\n",
       "      <td>0</td>\n",
       "      <td>0</td>\n",
       "      <td>1</td>\n",
       "    </tr>\n",
       "    <tr>\n",
       "      <th>1</th>\n",
       "      <td>21.6</td>\n",
       "      <td>37.07</td>\n",
       "      <td>0.469</td>\n",
       "      <td>6.421</td>\n",
       "      <td>78.9</td>\n",
       "      <td>22.2</td>\n",
       "      <td>9.14</td>\n",
       "      <td>7.332</td>\n",
       "      <td>12.17280</td>\n",
       "      <td>42</td>\n",
       "      <td>0.046146</td>\n",
       "      <td>4.9675</td>\n",
       "      <td>0</td>\n",
       "      <td>1</td>\n",
       "      <td>0</td>\n",
       "      <td>0</td>\n",
       "    </tr>\n",
       "    <tr>\n",
       "      <th>2</th>\n",
       "      <td>34.7</td>\n",
       "      <td>37.07</td>\n",
       "      <td>0.469</td>\n",
       "      <td>7.185</td>\n",
       "      <td>61.1</td>\n",
       "      <td>22.2</td>\n",
       "      <td>4.03</td>\n",
       "      <td>7.394</td>\n",
       "      <td>46.19856</td>\n",
       "      <td>38</td>\n",
       "      <td>0.045764</td>\n",
       "      <td>4.9675</td>\n",
       "      <td>0</td>\n",
       "      <td>0</td>\n",
       "      <td>0</td>\n",
       "      <td>0</td>\n",
       "    </tr>\n",
       "    <tr>\n",
       "      <th>3</th>\n",
       "      <td>33.4</td>\n",
       "      <td>32.18</td>\n",
       "      <td>0.458</td>\n",
       "      <td>6.998</td>\n",
       "      <td>45.8</td>\n",
       "      <td>21.3</td>\n",
       "      <td>2.94</td>\n",
       "      <td>9.268</td>\n",
       "      <td>11.26720</td>\n",
       "      <td>45</td>\n",
       "      <td>0.047151</td>\n",
       "      <td>6.0650</td>\n",
       "      <td>1</td>\n",
       "      <td>1</td>\n",
       "      <td>0</td>\n",
       "      <td>0</td>\n",
       "    </tr>\n",
       "    <tr>\n",
       "      <th>4</th>\n",
       "      <td>36.2</td>\n",
       "      <td>32.18</td>\n",
       "      <td>0.458</td>\n",
       "      <td>7.147</td>\n",
       "      <td>54.2</td>\n",
       "      <td>21.3</td>\n",
       "      <td>5.33</td>\n",
       "      <td>8.824</td>\n",
       "      <td>11.28960</td>\n",
       "      <td>55</td>\n",
       "      <td>0.039474</td>\n",
       "      <td>6.0625</td>\n",
       "      <td>0</td>\n",
       "      <td>1</td>\n",
       "      <td>0</td>\n",
       "      <td>0</td>\n",
       "    </tr>\n",
       "  </tbody>\n",
       "</table>\n",
       "</div>"
      ],
      "text/plain": [
       "   price  resid_area  air_qual  room_num   age  teachers  poor_prop  \\\n",
       "0   24.0       32.31     0.538     6.575  65.2      24.7       4.98   \n",
       "1   21.6       37.07     0.469     6.421  78.9      22.2       9.14   \n",
       "2   34.7       37.07     0.469     7.185  61.1      22.2       4.03   \n",
       "3   33.4       32.18     0.458     6.998  45.8      21.3       2.94   \n",
       "4   36.2       32.18     0.458     7.147  54.2      21.3       5.33   \n",
       "\n",
       "   n_hos_beds  n_hot_rooms  rainfall     parks  avg_dist  airport_YES  \\\n",
       "0       5.480     11.19200        23  0.049347    4.0875            1   \n",
       "1       7.332     12.17280        42  0.046146    4.9675            0   \n",
       "2       7.394     46.19856        38  0.045764    4.9675            0   \n",
       "3       9.268     11.26720        45  0.047151    6.0650            1   \n",
       "4       8.824     11.28960        55  0.039474    6.0625            0   \n",
       "\n",
       "   waterbody_Lake  waterbody_Lake and River  waterbody_River  \n",
       "0               0                         0                1  \n",
       "1               1                         0                0  \n",
       "2               0                         0                0  \n",
       "3               1                         0                0  \n",
       "4               1                         0                0  "
      ]
     },
     "execution_count": 24,
     "metadata": {},
     "output_type": "execute_result"
    }
   ],
   "source": [
    "X.head()"
   ]
  },
  {
   "cell_type": "code",
   "execution_count": 20,
   "id": "5bd8b3c2",
   "metadata": {},
   "outputs": [],
   "source": [
    "Y = df['Sold']"
   ]
  },
  {
   "cell_type": "code",
   "execution_count": 21,
   "id": "8fcbc9f8",
   "metadata": {},
   "outputs": [
    {
     "name": "stderr",
     "output_type": "stream",
     "text": [
      "C:\\Users\\onata\\anaconda3\\lib\\site-packages\\sklearn\\linear_model\\_logistic.py:763: ConvergenceWarning: lbfgs failed to converge (status=1):\n",
      "STOP: TOTAL NO. of ITERATIONS REACHED LIMIT.\n",
      "\n",
      "Increase the number of iterations (max_iter) or scale the data as shown in:\n",
      "    https://scikit-learn.org/stable/modules/preprocessing.html\n",
      "Please also refer to the documentation for alternative solver options:\n",
      "    https://scikit-learn.org/stable/modules/linear_model.html#logistic-regression\n",
      "  n_iter_i = _check_optimize_result(\n"
     ]
    },
    {
     "data": {
      "text/plain": [
       "LogisticRegression()"
      ]
     },
     "execution_count": 21,
     "metadata": {},
     "output_type": "execute_result"
    }
   ],
   "source": [
    "clf_lr = LogisticRegression()\n",
    "clf_lr.fit(X,Y)"
   ]
  },
  {
   "cell_type": "code",
   "execution_count": 22,
   "id": "f30c4fc3",
   "metadata": {},
   "outputs": [
    {
     "data": {
      "text/plain": [
       "array([[-0.24635598, -0.0172974 , -0.11019361,  0.86259978, -0.00599861,\n",
       "         0.22819817, -0.21021684,  0.18006798, -0.0908682 , -0.00704751,\n",
       "        -0.00499201, -0.32611291, -0.10521215, -0.09487293, -0.01512354,\n",
       "         0.20180247]])"
      ]
     },
     "execution_count": 22,
     "metadata": {},
     "output_type": "execute_result"
    }
   ],
   "source": [
    "clf_lr.coef_"
   ]
  },
  {
   "cell_type": "code",
   "execution_count": 25,
   "id": "c11c07cc",
   "metadata": {},
   "outputs": [
    {
     "data": {
      "text/plain": [
       "array([0.01671264])"
      ]
     },
     "execution_count": 25,
     "metadata": {},
     "output_type": "execute_result"
    }
   ],
   "source": [
    "clf_lr.intercept_"
   ]
  },
  {
   "cell_type": "code",
   "execution_count": null,
   "id": "ea89e49b",
   "metadata": {},
   "outputs": [],
   "source": []
  },
  {
   "cell_type": "markdown",
   "id": "54af1640",
   "metadata": {},
   "source": [
    "# CONFUSION MATRIX"
   ]
  },
  {
   "cell_type": "code",
   "execution_count": 26,
   "id": "81638073",
   "metadata": {},
   "outputs": [
    {
     "data": {
      "text/plain": [
       "array([[0.1270669 , 0.8729331 ],\n",
       "       [0.39755057, 0.60244943],\n",
       "       [0.9807197 , 0.0192803 ],\n",
       "       ...,\n",
       "       [0.28594543, 0.71405457],\n",
       "       [0.280615  , 0.719385  ],\n",
       "       [0.16347257, 0.83652743]])"
      ]
     },
     "execution_count": 26,
     "metadata": {},
     "output_type": "execute_result"
    }
   ],
   "source": [
    "clf_lr.predict_proba(X)"
   ]
  },
  {
   "cell_type": "code",
   "execution_count": 27,
   "id": "a5044161",
   "metadata": {},
   "outputs": [
    {
     "data": {
      "text/plain": [
       "array([1, 1, 0, 0, 0, 0, 0, 0, 0, 0, 0, 1, 0, 0, 1, 1, 0, 0, 0, 1, 0, 0,\n",
       "       0, 0, 0, 0, 0, 0, 0, 1, 0, 1, 0, 0, 0, 1, 1, 1, 1, 0, 0, 1, 1, 0,\n",
       "       1, 1, 0, 0, 0, 0, 0, 1, 1, 1, 0, 0, 0, 0, 0, 0, 0, 0, 0, 0, 0, 1,\n",
       "       1, 0, 0, 0, 1, 1, 1, 0, 1, 1, 1, 1, 0, 1, 0, 0, 1, 1, 0, 1, 0, 1,\n",
       "       1, 1, 1, 1, 1, 1, 1, 1, 1, 0, 0, 0, 0, 1, 1, 0, 1, 0, 0, 0, 1, 0,\n",
       "       0, 1, 0, 1, 1, 1, 1, 1, 0, 1, 0, 1, 0, 0, 0, 0, 0, 0, 0, 0, 1, 1,\n",
       "       0, 0, 0, 0, 1, 1, 0, 0, 0, 0, 0, 0, 0, 0, 1, 0, 0, 1, 1, 1, 1, 1,\n",
       "       1, 1, 1, 0, 1, 1, 1, 0, 0, 0, 1, 1, 0, 1, 1, 1, 1, 1, 0, 1, 1, 1,\n",
       "       1, 1, 1, 0, 0, 0, 0, 0, 0, 0, 0, 1, 1, 1, 0, 1, 0, 1, 1, 0, 0, 0,\n",
       "       0, 0, 0, 1, 0, 0, 0, 0, 0, 0, 0, 0, 0, 0, 0, 0, 0, 0, 0, 0, 0, 1,\n",
       "       1, 0, 1, 1, 0, 0, 0, 1, 0, 0, 0, 1, 0, 0, 1, 0, 1, 1, 1, 1, 0, 0,\n",
       "       0, 1, 0, 0, 0, 0, 0, 0, 0, 1, 0, 0, 0, 0, 0, 0, 0, 1, 1, 0, 0, 1,\n",
       "       0, 1, 0, 0, 0, 1, 0, 1, 1, 0, 1, 1, 0, 0, 0, 1, 0, 0, 0, 0, 0, 1,\n",
       "       0, 1, 1, 0, 1, 0, 1, 1, 1, 1, 1, 0, 1, 1, 1, 1, 1, 0, 0, 0, 1, 1,\n",
       "       1, 1, 1, 1, 1, 1, 1, 1, 0, 0, 0, 1, 1, 1, 1, 0, 1, 1, 1, 0, 1, 1,\n",
       "       1, 1, 1, 1, 0, 0, 1, 1, 1, 1, 1, 0, 1, 1, 1, 0, 0, 0, 0, 0, 0, 0,\n",
       "       0, 0, 0, 0, 0, 0, 0, 0, 1, 0, 0, 1, 1, 0, 0, 0, 0, 0, 0, 0, 0, 0,\n",
       "       0, 1, 1, 1, 0, 1, 1, 1, 0, 0, 0, 0, 0, 0, 0, 0, 1, 0, 0, 1, 1, 1,\n",
       "       1, 1, 0, 0, 1, 1, 1, 1, 0, 1, 0, 0, 0, 0, 1, 0, 0, 0, 0, 1, 1, 0,\n",
       "       1, 1, 1, 1, 0, 0, 1, 0, 1, 1, 1, 1, 1, 1, 1, 1, 1, 1, 1, 1, 0, 0,\n",
       "       1, 0, 1, 1, 0, 0, 1, 1, 1, 1, 1, 1, 0, 1, 1, 1, 1, 1, 1, 0, 1, 1,\n",
       "       0, 1, 0, 0, 0, 0, 0, 0, 0, 0, 0, 0, 1, 0, 0, 0, 0, 0, 0, 1, 1, 0,\n",
       "       0, 1, 0, 1, 0, 1, 0, 0, 0, 0, 0, 0, 0, 0, 0, 1, 1, 1, 1, 1, 1, 1],\n",
       "      dtype=int64)"
      ]
     },
     "execution_count": 27,
     "metadata": {},
     "output_type": "execute_result"
    }
   ],
   "source": [
    "y_pred = clf_lr.predict(X)\n",
    "y_pred"
   ]
  },
  {
   "cell_type": "code",
   "execution_count": 29,
   "id": "e918671e",
   "metadata": {},
   "outputs": [],
   "source": [
    "y_pred_03 = (clf_lr.predict_proba(X)[:,1] >= 0.3).astype(bool)"
   ]
  },
  {
   "cell_type": "code",
   "execution_count": 31,
   "id": "2f082981",
   "metadata": {},
   "outputs": [
    {
     "data": {
      "text/plain": [
       "array([[196,  80],\n",
       "       [ 81, 149]], dtype=int64)"
      ]
     },
     "execution_count": 31,
     "metadata": {},
     "output_type": "execute_result"
    }
   ],
   "source": [
    "from sklearn.metrics import confusion_matrix\n",
    "confusion_matrix(Y,y_pred)"
   ]
  },
  {
   "cell_type": "code",
   "execution_count": 32,
   "id": "e4e99264",
   "metadata": {},
   "outputs": [
    {
     "data": {
      "text/plain": [
       "array([[121, 155],\n",
       "       [ 18, 212]], dtype=int64)"
      ]
     },
     "execution_count": 32,
     "metadata": {},
     "output_type": "execute_result"
    }
   ],
   "source": [
    "confusion_matrix(Y,y_pred_03)"
   ]
  },
  {
   "cell_type": "markdown",
   "id": "4fbd6100",
   "metadata": {},
   "source": [
    "# Evaluating the performance of the model"
   ]
  },
  {
   "cell_type": "code",
   "execution_count": 33,
   "id": "3d734f53",
   "metadata": {},
   "outputs": [],
   "source": [
    "from sklearn.metrics import precision_score, recall_score"
   ]
  },
  {
   "cell_type": "code",
   "execution_count": 34,
   "id": "06bf5ff5",
   "metadata": {},
   "outputs": [
    {
     "data": {
      "text/plain": [
       "0.6506550218340611"
      ]
     },
     "execution_count": 34,
     "metadata": {},
     "output_type": "execute_result"
    }
   ],
   "source": [
    "precision_score(Y, y_pred)"
   ]
  },
  {
   "cell_type": "code",
   "execution_count": 35,
   "id": "cf465616",
   "metadata": {},
   "outputs": [
    {
     "data": {
      "text/plain": [
       "0.6478260869565218"
      ]
     },
     "execution_count": 35,
     "metadata": {},
     "output_type": "execute_result"
    }
   ],
   "source": [
    "recall_score(Y, y_pred)"
   ]
  },
  {
   "cell_type": "code",
   "execution_count": 36,
   "id": "ad0162b7",
   "metadata": {},
   "outputs": [],
   "source": [
    "from sklearn.metrics import roc_auc_score"
   ]
  },
  {
   "cell_type": "code",
   "execution_count": 37,
   "id": "8d911495",
   "metadata": {},
   "outputs": [
    {
     "data": {
      "text/plain": [
       "0.6789855072463769"
      ]
     },
     "execution_count": 37,
     "metadata": {},
     "output_type": "execute_result"
    }
   ],
   "source": [
    "roc_auc_score(Y, y_pred)"
   ]
  },
  {
   "cell_type": "code",
   "execution_count": null,
   "id": "639975da",
   "metadata": {},
   "outputs": [],
   "source": []
  }
 ],
 "metadata": {
  "kernelspec": {
   "display_name": "Python 3 (ipykernel)",
   "language": "python",
   "name": "python3"
  },
  "language_info": {
   "codemirror_mode": {
    "name": "ipython",
    "version": 3
   },
   "file_extension": ".py",
   "mimetype": "text/x-python",
   "name": "python",
   "nbconvert_exporter": "python",
   "pygments_lexer": "ipython3",
   "version": "3.9.7"
  }
 },
 "nbformat": 4,
 "nbformat_minor": 5
}
